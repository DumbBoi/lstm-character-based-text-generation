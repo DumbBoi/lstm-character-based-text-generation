{
 "cells": [
  {
   "cell_type": "code",
   "execution_count": 2,
   "metadata": {},
   "outputs": [
    {
     "name": "stdout",
     "output_type": "stream",
     "text": [
      "*** Introductory Examples for the NLTK Book ***\n",
      "Loading text1, ..., text9 and sent1, ..., sent9\n",
      "Type the name of the text or sentence to view it.\n",
      "Type: 'texts()' or 'sents()' to list the materials.\n",
      "text1: Moby Dick by Herman Melville 1851\n",
      "text2: Sense and Sensibility by Jane Austen 1811\n",
      "text3: The Book of Genesis\n",
      "text4: Inaugural Address Corpus\n",
      "text5: Chat Corpus\n",
      "text6: Monty Python and the Holy Grail\n",
      "text7: Wall Street Journal\n",
      "text8: Personals Corpus\n",
      "text9: The Man Who Was Thursday by G . K . Chesterton 1908\n"
     ]
    }
   ],
   "source": [
    "import os\n",
    "import random\n",
    "import numpy as np\n",
    "import tensorflow\n",
    "import tensorflow.keras\n",
    "from tensorflow.keras.layers import *\n",
    "from tensorflow.keras.optimizers import *\n",
    "from tensorflow.keras.models import *\n",
    "from nltk.book import *"
   ]
  },
  {
   "cell_type": "code",
   "execution_count": 46,
   "metadata": {},
   "outputs": [
    {
     "name": "stdout",
     "output_type": "stream",
     "text": [
      "608145\n",
      "55\n",
      "['.', '4', 'i', 'e', 'j', '\"', 'k', '8', ' ', 'd', 'g', '(', 'l', 'm', ';', '&', 'a', \"'\", '[', 'b', '5', '6', '+', 't', '$', 'h', 'f', 'c', '1', 'o', 'x', ')', 'p', '0', '%', '/', '3', 'r', 's', ',', 'u', ':', '2', 'q', '7', 'y', 'v', ']', 'n', '-', '9', 'w', 'z', '*', '_']\n"
     ]
    }
   ],
   "source": [
    "dataDir = './data/'\n",
    "countryDirs = os.listdir(dataDir)\n",
    "\n",
    "data = []\n",
    "\n",
    "for cdir in countryDirs:\n",
    "    fileDir = (os.path.join(dataDir, cdir, 'summary.txt'))\n",
    "    data.append(open(fileDir, 'r').read())\n",
    "data = ' '.join(data)\n",
    "print(len(data))\n",
    "\n",
    "uniqueCharacters = list(set(data)) + ['*', '_']\n",
    "print(len(uniqueCharacters))\n",
    "print(uniqueCharacters)"
   ]
  },
  {
   "cell_type": "code",
   "execution_count": 37,
   "metadata": {},
   "outputs": [
    {
     "name": "stdout",
     "output_type": "stream",
     "text": [
      "55\n",
      "['.', 'j', 'i', 'e', '\"', '4', 'k', '8', ' ', 'd', 'g', '(', 'm', 'l', ';', '&', 'a', \"'\", '[', 'b', '5', '6', '*', '+', 't', '$', 'h', 'f', 'c', '1', 'o', ')', 'x', 'p', '0', '3', 'r', '!', 's', 'u', ',', ':', 'q', '2', '7', 'y', 'v', ']', '?', '_', 'n', '-', '9', 'w', 'z']\n"
     ]
    }
   ],
   "source": [
    "data = list(text1)# + list(text2) + list(text3) + list(text4) + list(text5) + list(text6) + list(text7) + list(text8) + list(text9)\n",
    "data = ' '.join(data)\n",
    "data = data.lower()\n",
    "data = data.encode('ascii', 'ignore').decode()\n",
    "uniqueCharacters = list(set(data).union(['*', '_', '+']))\n",
    "print(len(uniqueCharacters))\n",
    "print(uniqueCharacters)"
   ]
  },
  {
   "cell_type": "code",
   "execution_count": 47,
   "metadata": {},
   "outputs": [
    {
     "name": "stdout",
     "output_type": "stream",
     "text": [
      "608115\n"
     ]
    }
   ],
   "source": [
    "xLength = 30\n",
    "stepSize = 1\n",
    "\n",
    "dataX = []\n",
    "dataY = []\n",
    "\n",
    "for i in range(0, len(data) - xLength, stepSize):\n",
    "    dataX.append(data[i:i + xLength])\n",
    "    dataY.append(data[i + xLength])\n",
    "print(len(dataX))"
   ]
  },
  {
   "cell_type": "code",
   "execution_count": 48,
   "metadata": {},
   "outputs": [
    {
     "name": "stdout",
     "output_type": "stream",
     "text": [
      "(608115, 30, 55)\n",
      "(608115, 55)\n"
     ]
    }
   ],
   "source": [
    "def vectorize(X, xLength):\n",
    "    res = np.zeros((len(X), xLength, len(uniqueCharacters)))\n",
    "    for N, i in enumerate(X):\n",
    "        for n, x in enumerate(i):\n",
    "            idx = uniqueCharacters.index(x)\n",
    "            res[N, n, idx] = 1\n",
    "    return res\n",
    "dataX = vectorize(dataX, xLength)\n",
    "# dataY = vectorize(dataY, 1)\n",
    "dataY = np.squeeze(vectorize(dataY, 1), axis = 1)\n",
    "print(dataX.shape)\n",
    "print(dataY.shape)"
   ]
  },
  {
   "cell_type": "code",
   "execution_count": 40,
   "metadata": {},
   "outputs": [],
   "source": [
    "def rev_vectorize(x):\n",
    "    x = np.squeeze(x, axis = 0)\n",
    "    x = x.tolist()\n",
    "    max_ = max(x)\n",
    "    idx = x.index(max_)\n",
    "    return uniqueCharacters[idx]"
   ]
  },
  {
   "cell_type": "code",
   "execution_count": 41,
   "metadata": {},
   "outputs": [
    {
     "name": "stdout",
     "output_type": "stream",
     "text": [
      "_________________________________________________________________\n",
      "Layer (type)                 Output Shape              Param #   \n",
      "=================================================================\n",
      "lstm (LSTM)                  (None, 64)                30720     \n",
      "_________________________________________________________________\n",
      "dense (Dense)                (None, 55)                3575      \n",
      "=================================================================\n",
      "Total params: 34,295\n",
      "Trainable params: 34,295\n",
      "Non-trainable params: 0\n",
      "_________________________________________________________________\n"
     ]
    }
   ],
   "source": [
    "model = Sequential()\n",
    "model.add(LSTM(units = 64, input_shape = (xLength, len(uniqueCharacters))))\n",
    "model.add(Dense(len(uniqueCharacters), activation='softmax'))"
   ]
  },
  {
   "cell_type": "code",
   "execution_count": 49,
   "metadata": {},
   "outputs": [
    {
     "name": "stdout",
     "output_type": "stream",
     "text": [
      "_________________________________________________________________\n",
      "Layer (type)                 Output Shape              Param #   \n",
      "=================================================================\n",
      "lstm (LSTM)                  (None, 64)                30720     \n",
      "_________________________________________________________________\n",
      "dense (Dense)                (None, 55)                3575      \n",
      "=================================================================\n",
      "Total params: 34,295\n",
      "Trainable params: 34,295\n",
      "Non-trainable params: 0\n",
      "_________________________________________________________________\n"
     ]
    }
   ],
   "source": [
    "model.compile(loss='categorical_crossentropy', optimizer=Adamax(lr = 0.01, decay = 0.0001))\n",
    "model.summary()"
   ]
  },
  {
   "cell_type": "code",
   "execution_count": 52,
   "metadata": {
    "scrolled": true
   },
   "outputs": [
    {
     "name": "stdout",
     "output_type": "stream",
     "text": [
      "Epoch 1/5\n",
      "608115/608115 [==============================] - 328s 539us/step - loss: 2.1836\n",
      "Epoch 2/5\n",
      "608115/608115 [==============================] - 326s 537us/step - loss: 1.5702\n",
      "Epoch 3/5\n",
      "608115/608115 [==============================] - 318s 523us/step - loss: 1.4827s - l\n",
      "Epoch 4/5\n",
      "608115/608115 [==============================] - 315s 518us/step - loss: 1.4361\n",
      "Epoch 5/5\n",
      "608115/608115 [==============================] - 319s 525us/step - loss: 1.4039\n"
     ]
    },
    {
     "data": {
      "text/plain": [
       "<tensorflow.python.keras.callbacks.History at 0x7fb9f76b89b0>"
      ]
     },
     "execution_count": 52,
     "metadata": {},
     "output_type": "execute_result"
    }
   ],
   "source": [
    "model.fit(dataX, dataY, batch_size = 64, epochs = 5)"
   ]
  },
  {
   "cell_type": "code",
   "execution_count": 43,
   "metadata": {},
   "outputs": [],
   "source": [
    "model.save(f'./models/model_{xLength}_{stepSize}_text1')"
   ]
  },
  {
   "cell_type": "code",
   "execution_count": 51,
   "metadata": {},
   "outputs": [],
   "source": [
    "model = load_model(f'./models/model_{xLength}_{stepSize}_text1')"
   ]
  },
  {
   "cell_type": "code",
   "execution_count": 44,
   "metadata": {},
   "outputs": [],
   "source": [
    "def sample(x, temp = 0.6):\n",
    "    x = x[0]\n",
    "    preds = np.log(x) / temp\n",
    "    exp_preds = np.exp(preds)\n",
    "    preds = exp_preds / np.sum(exp_preds)\n",
    "    maxloc = preds.argmax()\n",
    "    preds[maxloc] = preds[maxloc] - 0.0001\n",
    "    probas = np.random.multinomial(1, preds, 1)\n",
    "    return np.argmax(probas)\n",
    "\n",
    "def predictText(x, predictLength = 1000):\n",
    "#     assert len(x) == xLength\n",
    "    results = []\n",
    "    for temp in range(1, 10, 2):\n",
    "        result = x\n",
    "        input_text = x\n",
    "        for _ in range(predictLength):\n",
    "            input_text_vectorized = vectorize([input_text], xLength)\n",
    "            nextChr = model.predict(input_text_vectorized)\n",
    "            nextChr = sample(nextChr, temp/10)\n",
    "            nextChr = uniqueCharacters[nextChr]\n",
    "            result += nextChr\n",
    "            input_text += nextChr\n",
    "            input_text = input_text[1:]\n",
    "        print(temp/10, result)\n",
    "        print()\n",
    "        results.append((temp, result))\n",
    "    return results"
   ]
  },
  {
   "cell_type": "code",
   "execution_count": 53,
   "metadata": {},
   "outputs": [
    {
     "name": "stdout",
     "output_type": "stream",
     "text": [
      "kuztistan is a republic in the\n"
     ]
    },
    {
     "name": "stderr",
     "output_type": "stream",
     "text": [
      "/home/shahzaib/anaconda3/envs/t/lib/python3.6/site-packages/ipykernel_launcher.py:3: RuntimeWarning: divide by zero encountered in log\n",
      "  This is separate from the ipykernel package so we can avoid doing imports until\n"
     ]
    },
    {
     "name": "stdout",
     "output_type": "stream",
     "text": [
      "0.1 kuztistan is a republic in the southeast , and the country ' s country of the country ' s country of the country ' s country of the country ' s consisting the southern the country , and the country ' s in the southeast , and the country ' s country and the country ' s country of the country ' s country of the country ' s country , and the country ' s country of the country ' s country of the country ' s country of the country ' s country of the country ' s in the southern in the southeast , and the country ' s country of the country ' s country of the country ' s country of the country ' s country of the country ' s country of the country ' s country of the country ' s country of the country ' s country , and the country ' s country in the world , and the country ' s country of the country ' s country of the country ' s country of the country , and the country ' s country of the country ' s country , and the country ' s country of the country ' s country of the country ' s country of the country ' s country of the \n",
      "\n",
      "0.3 kuztistan is a republic in the world , which the country , and the country ' s consistential commonwealth in the 1991 , and the country , which and the country , the country of the country . the country in 1991 , and the country ' s for the southeast , and the southern southeast , with a country of the country with the southern southeast , and of the country in the southwest , and the country , and the the southern the country and the the country ' s country , and the are country in the northeast , and the country in the south in the republic of the country , and the country . the population . the republic and the country , and the country . the country in the world , and the country ' s country . as the southeast , and the country in the world . in the southeast , the southern the country in the world , which is a member of the south , and the suder state , the country , and the southeast and the former , and country of the republic of the country ( spanish of the population in the southeast , and the country is a\n",
      "\n",
      "0.5 kuztistan is a republic in the 1991 and well , and population america , economic economic the southeast , and the country . as the south , union , the africa . the contures in 1995 , the country ' s mamered is a first . the spanish . it consisting the prince of the country is about of the french , the part of the south also country is the the country with a founded in the british a country of economy of the europe africa . the explocime of the country , which and the country , the trade and the economic to the area of the secorny , with a member of the country . the contining the area of the to the east , a decain and the land on the country ' s the country ' s in the african million is the armining is a memb_er the significant les factions . bormen , with a production and constitution . the the country and the same the war a subsected by has the ruled service from the world ' s forminm consisted in the west , the former hivied south africa , is the north . it is a government of the islamic the 1993 square properor\n",
      "\n",
      "0.7 kuztistan is a republic in the united nations in the southwest , the in the sera , as speake under the new remarity of 2018 , and america in the winake are area and middle in the 1990 , the country is the southeast populations and sughihher sniverty , while the plan , which southern for in the world , and depan are the northwest , are apablishing the country ( region , which and ethiopia and assolitida hispter the the constit bengally country states a sughen africa . accordered under the power average eart state 94 th century , and dinet 2020 proinn taving middle of the sip of followed and the in the maring consisted tade in the southwest , which more the south leespenden islam nominal in the west and fighen , official period economy is the southeast . the united nations , while arab of one of the southern peoples , house based the 2018 , belimed in population in the and proleries communitities . the state in the in has enganing coloni cribiens africa . the country , union , wholest , and event monterration , a the\n",
      "\n",
      "0.9 kuztistan is a republic in the member of the country with a gus partity saates , economic influentia ( pah to 2009 under the century in the politica of armalian consiverwbil on the asia un one of the sirtion - west , economy land of gulf , afrieanting enew affain exper le5ienntic reportutional became the amabian in the south and welly and waile to muslim . following the 1991 , move country , republic to ohe 1861 and to be population ; indux ' s mol to north ; the swaman fyase assemants , economic onest , ) , war , and swevin ( accestande , lyuliners from there and depeng kingdoms . in the toures is a several independence spirt so sul in 1902 . french relate . asia , wikh borders africa into consentied in while foul territory forees the part to 1976 , was with romaged as facy timanile over south from the since 1811 of the small must ethnic full and known is a serbiliomary of the reeuring from thre , while also island is constitution , other the official and primeronts , has west of chile and state in the country in \n",
      "\n"
     ]
    }
   ],
   "source": [
    "rndPoint = random.randint(0, len(data))\n",
    "startString = data[rndPoint:rndPoint + xLength]\n",
    "startString = \"kuztistan is a republic in the \"\n",
    "startString = startString[:xLength]\n",
    "print(startString)\n",
    "result = predictText(startString, 1000)"
   ]
  },
  {
   "cell_type": "code",
   "execution_count": null,
   "metadata": {},
   "outputs": [],
   "source": []
  }
 ],
 "metadata": {
  "kernelspec": {
   "display_name": "Python 3",
   "language": "python",
   "name": "python3"
  },
  "language_info": {
   "codemirror_mode": {
    "name": "ipython",
    "version": 3
   },
   "file_extension": ".py",
   "mimetype": "text/x-python",
   "name": "python",
   "nbconvert_exporter": "python",
   "pygments_lexer": "ipython3",
   "version": "3.6.10"
  }
 },
 "nbformat": 4,
 "nbformat_minor": 2
}
